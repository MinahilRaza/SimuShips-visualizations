{
 "cells": [
  {
   "cell_type": "code",
   "execution_count": 1,
   "id": "80de037a",
   "metadata": {},
   "outputs": [],
   "source": [
    "import xml.etree.ElementTree as ET\n",
    "import numpy as np\n",
    "import cv2, json\n",
    "import shutil\n",
    "from PIL import Image\n",
    "import os\n",
    "from boundingbox_utils import *"
   ]
  },
  {
   "cell_type": "code",
   "execution_count": 7,
   "id": "cbc012f8",
   "metadata": {},
   "outputs": [],
   "source": [
    "def annotations_yolo(dataset_dir , image_to_box, image_gt, pixel_array,\n",
    "                     categories_to_colors, ordered_categories):\n",
    "    \n",
    "    image_dir= dataset_dir+ '/images/'\n",
    "    annotations_dir= dataset_dir+ '/annotations/'\n",
    "    \n",
    "    txt_file = image_gt.split('/')[-1].replace('png', 'txt')\n",
    "    txt_file = annotations_dir + txt_file\n",
    "    \n",
    "    img_file = image_to_box.split('/')[-1]\n",
    "    img_file = image_dir + img_file\n",
    "    print(img_file)\n",
    "    \n",
    "    if not os.path.exists(dataset_dir):\n",
    "        os.mkdir(dataset_dir)\n",
    "    if not os.path.exists(image_dir):\n",
    "        os.mkdir(image_dir)\n",
    "    if not os.path.exists(annotations_dir):\n",
    "        os.mkdir(annotations_dir)\n",
    "    \n",
    "    boxes_list = GetBoxes(image_gt)\n",
    "    category_map = GetCategoriesJson(categories_to_colors)\n",
    "    box_map = GetBoxesJson(boxes_list, categories_to_colors, ordered_categories, pixel_array)\n",
    "    image_map = GetImageJson(image_to_box)\n",
    "    lines = []\n",
    "    if len(box_map)==1:\n",
    "        for box in box_map:\n",
    "            if box['category'] == 'default':\n",
    "                return\n",
    "    if len(box_map)==0:\n",
    "        return\n",
    "    \n",
    "    for box in box_map:\n",
    "        print(box)\n",
    "        if box['category'] == 'default':\n",
    "            continue\n",
    "        else:\n",
    "            # (x,y) is the top-left coordinate of the rectangle and (w,h) are its width and height.\n",
    "            # to change this to YOLO format, we need to normalize\n",
    "            imageh = 1080\n",
    "            imagew = 1920\n",
    "            # modify x value\n",
    "            box['bbox'][0] = round((box['bbox'][0] + box['bbox'][2]/2)/ imagew, 15)\n",
    "            box['bbox'][1] = round((box['bbox'][1] + box['bbox'][3]/2)/ imageh, 15)\n",
    "            box['bbox'][2] = round((box['bbox'][2])/ imagew, 10)\n",
    "            box['bbox'][3] = round((box['bbox'][3])/ imageh, 10)\n",
    "            \n",
    "            line = str(category_map[box['category']]) + ' '\n",
    "            box['bbox'] = map(str, box['bbox']) \n",
    "            line = line + ' '.join(box['bbox'])\n",
    "            lines.append(line)\n",
    "    lines = '\\n'.join(lines)\n",
    "    with open(txt_file, \"w\") as f:\n",
    "        f.write(lines)\n",
    "        f.close()\n",
    "    cv2.imwrite(img_file, cv2.imread(image_to_box))"
   ]
  },
  {
   "cell_type": "code",
   "execution_count": 8,
   "id": "8fa54743",
   "metadata": {},
   "outputs": [
    {
     "name": "stdout",
     "output_type": "stream",
     "text": [
      "./annotated_images/images/5.png\n",
      "{'category': 'default', 'bbox': [0, 0, 1920, 1080], 'color': (50, 239, 13), 'instance_id': 77, 'num_pixels': 1576992}\n",
      "{'category': 'Boat', 'bbox': [512, 153, 1116, 614], 'color': (55, 3, 93), 'instance_id': 20, 'num_pixels': 173989}\n",
      "{'category': 'Boat', 'bbox': [359, 457, 169, 140], 'color': (86, 134, 205), 'instance_id': 65, 'num_pixels': 12462}\n"
     ]
    }
   ],
   "source": [
    "palette_image = \"color_pallete.tga\"\n",
    "xml_file = \"GroundTruthColorMapping.xml\"\n",
    "pixel_array = GetColorMap(palette_image)\n",
    "categories_to_colors, ordered_categories = MapColorPalette(xml_file)\n",
    "\n",
    "dataset_dir = './annotated_images'\n",
    "image_to_box = \"sample_images/5.png\"\n",
    "image_gt = \"sample_images/5_mask.png\"\n",
    "\n",
    "annotations_yolo(dataset_dir, image_to_box, image_gt, pixel_array,\n",
    "                     categories_to_colors, ordered_categories)"
   ]
  },
  {
   "cell_type": "code",
   "execution_count": null,
   "id": "8b27e61a",
   "metadata": {},
   "outputs": [],
   "source": []
  }
 ],
 "metadata": {
  "kernelspec": {
   "display_name": "Python 3 (ipykernel)",
   "language": "python",
   "name": "python3"
  },
  "language_info": {
   "codemirror_mode": {
    "name": "ipython",
    "version": 3
   },
   "file_extension": ".py",
   "mimetype": "text/x-python",
   "name": "python",
   "nbconvert_exporter": "python",
   "pygments_lexer": "ipython3",
   "version": "3.9.7"
  }
 },
 "nbformat": 4,
 "nbformat_minor": 5
}
